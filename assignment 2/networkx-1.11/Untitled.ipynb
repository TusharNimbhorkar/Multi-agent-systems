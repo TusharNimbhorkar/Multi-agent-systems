{
 "cells": [
  {
   "cell_type": "code",
   "execution_count": 13,
   "metadata": {
    "collapsed": true
   },
   "outputs": [],
   "source": [
    "import networkx as nx\n",
    "import matplotlib as plt"
   ]
  },
  {
   "cell_type": "code",
   "execution_count": 45,
   "metadata": {
    "collapsed": true
   },
   "outputs": [],
   "source": [
    "G = nx.DiGraph()"
   ]
  },
  {
   "cell_type": "code",
   "execution_count": 46,
   "metadata": {
    "collapsed": true
   },
   "outputs": [],
   "source": [
    "for i in range(24):\n",
    "    G.add_node(i)"
   ]
  },
  {
   "cell_type": "code",
   "execution_count": 50,
   "metadata": {
    "collapsed": true
   },
   "outputs": [],
   "source": [
    "G.add_edges_from(X)"
   ]
  },
  {
   "cell_type": "code",
   "execution_count": 47,
   "metadata": {
    "collapsed": true
   },
   "outputs": [],
   "source": [
    "x = [[22, 15, 14],[11, 19, 23, 7],[8],[16, 4, 20, 9],[3, 5, 10],[4, 16, 10, 17],[8],[1, 17, 13],[2, 6, 9],[3, 8, 20], [4, 5, 17, 13, 21], [1, 16, 17], [20, 15, 22], [7, 10, 22, 23], [0, 23], [0, 12, 18], [3, 5, 11], [5, 7, 10, 11], [15], [1, 23], [3, 9, 12, 21], [10, 20, 22], [0, 12, 13, 21], [1, 13, 14, 19]]"
   ]
  },
  {
   "cell_type": "code",
   "execution_count": 48,
   "metadata": {
    "collapsed": true
   },
   "outputs": [],
   "source": [
    "X = []"
   ]
  },
  {
   "cell_type": "code",
   "execution_count": 49,
   "metadata": {
    "collapsed": false
   },
   "outputs": [],
   "source": [
    "for i in range(len(x)):\n",
    "    for j in range(len(x[i])):\n",
    "        X.append((i,x[i][j]))"
   ]
  },
  {
   "cell_type": "code",
   "execution_count": 51,
   "metadata": {
    "collapsed": false
   },
   "outputs": [],
   "source": [
    "labels=nx.draw_networkx_labels(G,pos=nx.spring_layout(G))"
   ]
  },
  {
   "cell_type": "code",
   "execution_count": 42,
   "metadata": {
    "collapsed": false
   },
   "outputs": [
    {
     "data": {
      "text/plain": [
       "{'0': <matplotlib.text.Text at 0x7f9e44606b90>,\n",
       " '1': <matplotlib.text.Text at 0x7f9e44606750>,\n",
       " '10': <matplotlib.text.Text at 0x7f9e4462a6d0>,\n",
       " '11': <matplotlib.text.Text at 0x7f9e4462a290>,\n",
       " '12': <matplotlib.text.Text at 0x7f9e4462af50>,\n",
       " '13': <matplotlib.text.Text at 0x7f9e4462ab10>,\n",
       " '14': <matplotlib.text.Text at 0x7f9e445b6810>,\n",
       " '15': <matplotlib.text.Text at 0x7f9e445b63d0>,\n",
       " '16': <matplotlib.text.Text at 0x7f9e445c30d0>,\n",
       " '17': <matplotlib.text.Text at 0x7f9e445b6c50>,\n",
       " '18': <matplotlib.text.Text at 0x7f9e445c3950>,\n",
       " '19': <matplotlib.text.Text at 0x7f9e445c3510>,\n",
       " '2': <matplotlib.text.Text at 0x7f9e44610450>,\n",
       " '20': <matplotlib.text.Text at 0x7f9e445f6590>,\n",
       " '21': <matplotlib.text.Text at 0x7f9e445f6a50>,\n",
       " '22': <matplotlib.text.Text at 0x7f9e445f6e90>,\n",
       " '23': <matplotlib.text.Text at 0x7f9e44606310>,\n",
       " '3': <matplotlib.text.Text at 0x7f9e44606fd0>,\n",
       " '4': <matplotlib.text.Text at 0x7f9e44610cd0>,\n",
       " '5': <matplotlib.text.Text at 0x7f9e44610890>,\n",
       " '6': <matplotlib.text.Text at 0x7f9e4461c590>,\n",
       " '7': <matplotlib.text.Text at 0x7f9e4461c150>,\n",
       " '8': <matplotlib.text.Text at 0x7f9e4461ce10>,\n",
       " '9': <matplotlib.text.Text at 0x7f9e4461c9d0>}"
      ]
     },
     "execution_count": 42,
     "metadata": {},
     "output_type": "execute_result"
    }
   ],
   "source": [
    "labels"
   ]
  },
  {
   "cell_type": "code",
   "execution_count": 52,
   "metadata": {
    "collapsed": true
   },
   "outputs": [],
   "source": [
    "import matplotlib.pyplot as plt"
   ]
  },
  {
   "cell_type": "code",
   "execution_count": 53,
   "metadata": {
    "collapsed": true
   },
   "outputs": [],
   "source": [
    "nx.draw(G)"
   ]
  },
  {
   "cell_type": "code",
   "execution_count": 54,
   "metadata": {
    "collapsed": true
   },
   "outputs": [],
   "source": [
    "plt.show()"
   ]
  },
  {
   "cell_type": "code",
   "execution_count": 38,
   "metadata": {
    "collapsed": false
   },
   "outputs": [
    {
     "data": {
      "text/plain": [
       "list"
      ]
     },
     "execution_count": 38,
     "metadata": {},
     "output_type": "execute_result"
    }
   ],
   "source": [
    "type(range(24))"
   ]
  },
  {
   "cell_type": "code",
   "execution_count": null,
   "metadata": {
    "collapsed": true
   },
   "outputs": [],
   "source": []
  },
  {
   "cell_type": "code",
   "execution_count": 40,
   "metadata": {
    "collapsed": false
   },
   "outputs": [
    {
     "ename": "TypeError",
     "evalue": "draw_networkx_nodes() takes at least 2 arguments (3 given)",
     "output_type": "error",
     "traceback": [
      "\u001b[1;31m---------------------------------------------------------------------------\u001b[0m",
      "\u001b[1;31mTypeError\u001b[0m                                 Traceback (most recent call last)",
      "\u001b[1;32m<ipython-input-40-def0bdb89e72>\u001b[0m in \u001b[0;36m<module>\u001b[1;34m()\u001b[0m\n\u001b[0;32m      1\u001b[0m nx.draw_networkx_nodes(G,\n\u001b[0;32m      2\u001b[0m                        \u001b[0mnodelist\u001b[0m\u001b[1;33m=\u001b[0m\u001b[0mrange\u001b[0m\u001b[1;33m(\u001b[0m\u001b[1;36m24\u001b[0m\u001b[1;33m)\u001b[0m\u001b[1;33m,\u001b[0m\u001b[1;33m\u001b[0m\u001b[0m\n\u001b[1;32m----> 3\u001b[1;33m                        node_color='r')\n\u001b[0m",
      "\u001b[1;31mTypeError\u001b[0m: draw_networkx_nodes() takes at least 2 arguments (3 given)"
     ]
    }
   ],
   "source": []
  },
  {
   "cell_type": "code",
   "execution_count": 57,
   "metadata": {
    "collapsed": false
   },
   "outputs": [],
   "source": [
    "import networkx as nx\n",
    "import matplotlib.pyplot as plt\n",
    "\n",
    "#data= open(\"test.txt\", \"r\") # replace with the path to your edge file\n",
    "G1 = nx.DiGraph()\n",
    "edge_labels = dict()\n",
    "for i in range(len(X)):\n",
    "    #node1, node2, weight1 = line.strip().split(\"; \")\n",
    "    length = i # the length should be a float\n",
    "    G1.add_edge(X[i][0], X[i][1], label=str(i), length=length)\n",
    "    #edge_labels[(node1, node2)] = weight1 # store the string version as a label\n",
    "\n",
    "# Draw the graph\n",
    "pos = nx.spring_layout(G1) # set the positions of the nodes/edges/labels\n",
    "nx.draw_networkx(G1, pos=pos) # draw everything but the edge labels\n",
    "nx.draw_networkx_edge_labels(G1, pos=pos, edge_labels=edge_labels)\n",
    "plt.show()"
   ]
  },
  {
   "cell_type": "code",
   "execution_count": 67,
   "metadata": {
    "collapsed": false
   },
   "outputs": [],
   "source": [
    "x1 = nx.bfs_predecessors(G1,0)"
   ]
  },
  {
   "cell_type": "code",
   "execution_count": 66,
   "metadata": {
    "collapsed": false
   },
   "outputs": [],
   "source": [
    "nx.draw(x1)\n",
    "plt.show()"
   ]
  },
  {
   "cell_type": "code",
   "execution_count": 68,
   "metadata": {
    "collapsed": false
   },
   "outputs": [
    {
     "data": {
      "text/plain": [
       "{1: 23,\n",
       " 2: 8,\n",
       " 3: 20,\n",
       " 4: 10,\n",
       " 5: 10,\n",
       " 6: 8,\n",
       " 7: 13,\n",
       " 8: 9,\n",
       " 9: 20,\n",
       " 10: 13,\n",
       " 11: 1,\n",
       " 12: 22,\n",
       " 13: 22,\n",
       " 14: 0,\n",
       " 15: 0,\n",
       " 16: 11,\n",
       " 17: 10,\n",
       " 18: 15,\n",
       " 19: 23,\n",
       " 20: 12,\n",
       " 21: 22,\n",
       " 22: 0,\n",
       " 23: 14}"
      ]
     },
     "execution_count": 68,
     "metadata": {},
     "output_type": "execute_result"
    }
   ],
   "source": [
    "x1"
   ]
  },
  {
   "cell_type": "code",
   "execution_count": 69,
   "metadata": {
    "collapsed": true
   },
   "outputs": [],
   "source": [
    "xprime = [23, 8,\n",
    "  20,\n",
    "  10,\n",
    "  10,\n",
    " 8,\n",
    " 13,\n",
    " 9,\n",
    " 20,\n",
    "  13,\n",
    " 1,\n",
    " 22,\n",
    "  22,\n",
    "  0,\n",
    " 0,\n",
    " 11,\n",
    "  10,\n",
    " 15,\n",
    " 23,\n",
    " 12,\n",
    " 22,\n",
    "  0,\n",
    " 14]"
   ]
  },
  {
   "cell_type": "code",
   "execution_count": 71,
   "metadata": {
    "collapsed": false
   },
   "outputs": [],
   "source": [
    "xpp = []\n",
    "for i in reversed(xprime):\n",
    "    xpp.append(i)"
   ]
  },
  {
   "cell_type": "code",
   "execution_count": 72,
   "metadata": {
    "collapsed": false
   },
   "outputs": [
    {
     "data": {
      "text/plain": [
       "[14,\n",
       " 0,\n",
       " 22,\n",
       " 12,\n",
       " 23,\n",
       " 15,\n",
       " 10,\n",
       " 11,\n",
       " 0,\n",
       " 0,\n",
       " 22,\n",
       " 22,\n",
       " 1,\n",
       " 13,\n",
       " 20,\n",
       " 9,\n",
       " 13,\n",
       " 8,\n",
       " 10,\n",
       " 10,\n",
       " 20,\n",
       " 8,\n",
       " 23]"
      ]
     },
     "execution_count": 72,
     "metadata": {},
     "output_type": "execute_result"
    }
   ],
   "source": [
    "xpp"
   ]
  },
  {
   "cell_type": "code",
   "execution_count": null,
   "metadata": {
    "collapsed": true
   },
   "outputs": [],
   "source": []
  }
 ],
 "metadata": {
  "kernelspec": {
   "display_name": "Python 2",
   "language": "python",
   "name": "python2"
  },
  "language_info": {
   "codemirror_mode": {
    "name": "ipython",
    "version": 2
   },
   "file_extension": ".py",
   "mimetype": "text/x-python",
   "name": "python",
   "nbconvert_exporter": "python",
   "pygments_lexer": "ipython2",
   "version": "2.7.11"
  }
 },
 "nbformat": 4,
 "nbformat_minor": 0
}
